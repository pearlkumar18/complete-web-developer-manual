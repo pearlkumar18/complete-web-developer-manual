{
  "cells": [
    {
      "cell_type": "markdown",
      "metadata": {
        "id": "e06ljbrvR-74"
      },
      "source": [
        "[![Open In Colab](https://colab.research.google.com/assets/colab-badge.svg)](https://colab.research.google.com/github/mongodb-developer/ai-rag-lab-notebooks/blob/main/notebook_template.ipynb)\n"
      ]
    },
    {
      "cell_type": "markdown",
      "metadata": {
        "id": "yzf6IvxsR-75"
      },
      "source": [
        "[![Lab Documentation and Solutions](https://img.shields.io/badge/Lab%20Documentation%20and%20Solutions-purple)](https://mongodb-developer.github.io/ai-rag-lab/)\n"
      ]
    },
    {
      "cell_type": "markdown",
      "metadata": {
        "id": "I5gQgOz3R-75"
      },
      "source": [
        "# Step 1: Install libraries\n"
      ]
    },
    {
      "cell_type": "code",
      "execution_count": null,
      "metadata": {
        "id": "zIJvrKVKR-75"
      },
      "outputs": [],
      "source": [
        "! pip install -qU pymongo datasets langchain fireworks-ai tiktoken sentence_transformers tqdm"
      ]
    },
    {
      "cell_type": "markdown",
      "metadata": {
        "id": "kWaaFt3HR-75"
      },
      "source": [
        "# Step 2: Setup prerequisites\n",
        "\n",
        "Replace:\n",
        "\n",
        "- `<MONGODB_URI>` with your **MongoDB connection string**\n",
        "- `<FIREWORKS_API_KEY>` with your **Fireworks API key**\n"
      ]
    },
    {
      "cell_type": "code",
      "execution_count": null,
      "metadata": {
        "id": "-4Ei9YzxR-75"
      },
      "outputs": [],
      "source": [
        "import os\n",
        "from pymongo import MongoClient"
      ]
    },
    {
      "cell_type": "code",
      "execution_count": null,
      "metadata": {
        "id": "RAx5h6EJR-76"
      },
      "outputs": [],
      "source": [
        "# Retain the quotes (\"\") when pasting the URI\n",
        "MONGODB_URI = \"<MONGODB_URI>\"\n",
        "# Initialize a MongoDB Python client\n",
        "mongodb_client = MongoClient(MONGODB_URI, appname=\"devrel.workshop.rag\")\n",
        "# Check the connection to the server\n",
        "mongodb_client.admin.command(\"ping\")"
      ]
    },
    {
      "cell_type": "code",
      "execution_count": null,
      "metadata": {
        "id": "klouaLp7R-76"
      },
      "outputs": [],
      "source": [
        "# Retain the quotes (\"\") when pasting the API key\n",
        "os.environ[\"FIREWORKS_API_KEY\"] = \"<FIREWORKS_API_KEY>\""
      ]
    },
    {
      "cell_type": "markdown",
      "metadata": {
        "id": "0sjeu5GGR-76"
      },
      "source": [
        "# Step 3: Load the dataset\n"
      ]
    },
    {
      "cell_type": "code",
      "execution_count": null,
      "metadata": {
        "id": "5PH6sEAzR-76"
      },
      "outputs": [],
      "source": [
        "import pandas as pd\n",
        "from datasets import load_dataset"
      ]
    },
    {
      "cell_type": "code",
      "execution_count": null,
      "metadata": {
        "id": "0ZKmQXSFR-76"
      },
      "outputs": [],
      "source": [
        "data = load_dataset(\"mongodb/devcenter-articles\", split=\"train\", streaming=True)\n",
        "data_head = data.take(20)\n",
        "docs = pd.DataFrame(data_head).to_dict(\"records\")"
      ]
    },
    {
      "cell_type": "code",
      "execution_count": null,
      "metadata": {
        "id": "ExomfIYwR-76"
      },
      "outputs": [],
      "source": [
        "# Check the number of documents in the dataset\n",
        "len(docs)"
      ]
    },
    {
      "cell_type": "code",
      "execution_count": null,
      "metadata": {
        "id": "dKoMiG5vR-76"
      },
      "outputs": [],
      "source": [
        "# Preview a document\n",
        "docs[0]"
      ]
    },
    {
      "cell_type": "markdown",
      "metadata": {
        "id": "n7mgswYYR-76"
      },
      "source": [
        "# Step 4: Chunk up the data\n"
      ]
    },
    {
      "cell_type": "code",
      "execution_count": null,
      "metadata": {
        "id": "pj8lXWaQR-76"
      },
      "outputs": [],
      "source": [
        "from langchain.text_splitter import RecursiveCharacterTextSplitter\n",
        "from typing import Dict, List"
      ]
    },
    {
      "cell_type": "code",
      "execution_count": null,
      "metadata": {
        "id": "NMuesywDR-76"
      },
      "outputs": [],
      "source": [
        "# Separators to split on\n",
        "separators = [\"\\n\\n\", \"\\n\", \" \", \"\", \"#\", \"##\", \"###\"]"
      ]
    },
    {
      "cell_type": "markdown",
      "metadata": {
        "id": "CwgkUPiER-76"
      },
      "source": [
        "📚 https://python.langchain.com/v0.1/docs/modules/data_connection/document_transformers/split_by_token/#tiktoken\n"
      ]
    },
    {
      "cell_type": "code",
      "execution_count": null,
      "metadata": {
        "id": "71aDxrYHR-76"
      },
      "outputs": [],
      "source": [
        "# Use the `RecursiveCharacterTextSplitter` text splitter with the `cl100k_base` encoding\n",
        "# For text data, you typically want to keep 1-2 paragraphs (~200 tokens) in a single chunk\n",
        "# Chunk overlap of 15-20% of the chunk size is recommended\n",
        "# Pass the `separators` list above as an argument called `separators`\n",
        "text_splitter = <CODE_BLOCK_1>"
      ]
    },
    {
      "cell_type": "markdown",
      "metadata": {
        "id": "znMcf-r7R-76"
      },
      "source": [
        "📚 https://api.python.langchain.com/en/latest/character/langchain_text_splitters.character.RecursiveCharacterTextSplitter.html"
      ]
    },
    {
      "cell_type": "code",
      "execution_count": null,
      "metadata": {
        "id": "bYvCmUjKR-77"
      },
      "outputs": [],
      "source": [
        "def get_chunks(doc: Dict, text_field: str) -> List[Dict]:\n",
        "    \"\"\"\n",
        "    Chunk up a document.\n",
        "\n",
        "    Args:\n",
        "        doc (Dict): Parent document to generate chunks from.\n",
        "        text_field (str): Text field to chunk.\n",
        "\n",
        "    Returns:\n",
        "        List[Dict]: List of chunked documents.\n",
        "    \"\"\"\n",
        "    # Extract the field to chunk from `doc`\n",
        "    text = doc[text_field]\n",
        "    # Split `text` using the appropriate method of the `RecursiveCharacterTextSplitter` class\n",
        "    # NOTE: `text` is a string\n",
        "    chunks = <CODE_BLOCK_2>\n",
        "\n",
        "    # Iterate through `chunks` and for each chunk:\n",
        "    # 1. Create a shallow copy of `doc`, call it `temp`\n",
        "    # 2. Set the `text_field` field in `temp` to the content of the chunk\n",
        "    # 3. Append `temp` to `chunked_data`\n",
        "    chunked_data = []\n",
        "    for chunk in chunks:\n",
        "       temp = doc.copy()\n",
        "       temp[text_field]=chunk\n",
        "       chunked_data.append(temp)\n",
        "\n",
        "    return chunked_data"
      ]
    },
    {
      "cell_type": "code",
      "execution_count": null,
      "metadata": {
        "id": "FvwG6Bg9R-77"
      },
      "outputs": [],
      "source": [
        "split_docs = []"
      ]
    },
    {
      "cell_type": "code",
      "execution_count": null,
      "metadata": {
        "id": "qXW4To8uR-77"
      },
      "outputs": [],
      "source": [
        "# Iterate through `docs`, use the `get_chunks` function to chunk up the documents based on the \"body\" field, and add the list of chunked documents to `split_docs` initialized above.\n",
        "split_docs = []\n",
        "for doc in docs:\n",
        "    chunks = <CODE_BLOCK_3>\n",
        "    split_docs.extend(chunks)"
      ]
    },
    {
      "cell_type": "code",
      "execution_count": null,
      "metadata": {
        "id": "rb27rPBnR-77"
      },
      "outputs": [],
      "source": [
        "# Check that the length of the list of chunked documents is greater than the length of `docs`\n",
        "len(split_docs)"
      ]
    },
    {
      "cell_type": "code",
      "execution_count": null,
      "metadata": {
        "id": "RrsY3PgxR-77"
      },
      "outputs": [],
      "source": [
        "# Preview one of the items in split_docs- ensure that it is a Python dictionary\n",
        "split_docs[0]"
      ]
    },
    {
      "cell_type": "markdown",
      "metadata": {
        "id": "nzWlU5e7R-77"
      },
      "source": [
        "# Step 5: Generate embeddings\n"
      ]
    },
    {
      "cell_type": "code",
      "execution_count": null,
      "metadata": {
        "id": "R6_IcxLwR-77"
      },
      "outputs": [],
      "source": [
        "from sentence_transformers import SentenceTransformer\n",
        "from tqdm import tqdm"
      ]
    },
    {
      "cell_type": "code",
      "execution_count": null,
      "metadata": {
        "id": "WMAV2gVuR-77"
      },
      "outputs": [],
      "source": [
        "# Load the `gte-small` model using the Sentence Transformers library\n",
        "embedding_model = SentenceTransformer(\"thenlper/gte-small\")"
      ]
    },
    {
      "cell_type": "markdown",
      "metadata": {
        "id": "gknAWmQOR-77"
      },
      "source": [
        "📚 https://huggingface.co/thenlper/gte-small"
      ]
    },
    {
      "cell_type": "code",
      "execution_count": null,
      "metadata": {
        "id": "vYJVIJk-R-77"
      },
      "outputs": [],
      "source": [
        "# Define a function that takes a piece of text (`text`) as input, embeds it using the `embedding_model` instantiated above and returns the embedding as a list\n",
        "# An array can be converted to a list using the `tolist()` method\n",
        "def get_embedding(text: str) -> List[float]:\n",
        "    \"\"\"\n",
        "    Generate the embedding for a piece of text.\n",
        "\n",
        "    Args:\n",
        "        text (str): Text to embed.\n",
        "\n",
        "    Returns:\n",
        "        List[float]: Embedding of the text as a list.\n",
        "    \"\"\"\n",
        "    embedding = <CODE_BLOCK_4>\n",
        "    return embedding.tolist()"
      ]
    },
    {
      "cell_type": "code",
      "execution_count": null,
      "metadata": {
        "id": "i4A37p9ER-77"
      },
      "outputs": [],
      "source": [
        "embedded_docs = []"
      ]
    },
    {
      "cell_type": "code",
      "execution_count": null,
      "metadata": {
        "id": "GibAsqnLR-77"
      },
      "outputs": [],
      "source": [
        "# Add an `embedding` field to each dictionary in `split_docs`\n",
        "# The `embedding` field should correspond to the embedding of the value of the `body` field\n",
        "# Use the `get_embedding` function defined above to generate the embedding\n",
        "# Append the updated dictionaries to `embedded_docs` initialized above.\n",
        "for doc in tqdm(split_docs):\n",
        "    <CODE_BLOCK_5>\n",
        "    embedded_docs.append(doc)"
      ]
    },
    {
      "cell_type": "code",
      "execution_count": null,
      "metadata": {
        "id": "gjt8Q3dWR-77"
      },
      "outputs": [],
      "source": [
        "# Check that the length of `embedded_docs` is the same as that of `split_docs`\n",
        "len(embedded_docs)"
      ]
    },
    {
      "cell_type": "markdown",
      "metadata": {
        "id": "E1c3JmlzR-77"
      },
      "source": [
        "# Step 6: Ingest data into MongoDB\n"
      ]
    },
    {
      "cell_type": "code",
      "execution_count": null,
      "metadata": {
        "id": "1Tg25vxNR-77"
      },
      "outputs": [],
      "source": [
        "# Name of the database -- Change if needed or leave as is\n",
        "DB_NAME = \"mongodb_rag_lab\"\n",
        "# Name of the collection -- Change if needed or leave as is\n",
        "COLLECTION_NAME = \"knowledge_base\"\n",
        "# Name of the vector search index -- Change if needed or leave as is\n",
        "ATLAS_VECTOR_SEARCH_INDEX_NAME = \"vector_index\""
      ]
    },
    {
      "cell_type": "markdown",
      "metadata": {
        "id": "E9_3uFzsR-77"
      },
      "source": [
        "📚 https://pymongo.readthedocs.io/en/stable/tutorial.html#getting-a-database\n",
        "\n",
        "📚 https://pymongo.readthedocs.io/en/stable/tutorial.html#getting-a-collection"
      ]
    },
    {
      "cell_type": "code",
      "execution_count": null,
      "metadata": {
        "id": "QT0495iIR-77"
      },
      "outputs": [],
      "source": [
        "# Connect to the collection defined above using the `mongodb_client` defined in Step 2\n",
        "collection = <CODE_BLOCK_6>"
      ]
    },
    {
      "cell_type": "code",
      "execution_count": null,
      "metadata": {
        "id": "Jl5-X1F3R-77"
      },
      "outputs": [],
      "source": [
        "# Bulk delete all existing records from the collection defined above\n",
        "collection.delete_many({})"
      ]
    },
    {
      "cell_type": "markdown",
      "metadata": {
        "id": "E1sccuh3R-77"
      },
      "source": [
        "📚 https://pymongo.readthedocs.io/en/stable/examples/bulk.html#bulk-insert\n"
      ]
    },
    {
      "cell_type": "code",
      "execution_count": null,
      "metadata": {
        "id": "n9oMP9uER-77"
      },
      "outputs": [],
      "source": [
        "# Bulk insert `embedded_docs` into the collection defined above -- should be a one-liner\n",
        "<CODE_BLOCK_7>\n",
        "\n",
        "print(\"Data ingestion into MongoDB completed\")"
      ]
    },
    {
      "cell_type": "markdown",
      "metadata": {
        "id": "aVA7ODYZR-7_"
      },
      "source": [
        "# Step 7: Create a vector search index"
      ]
    },
    {
      "cell_type": "code",
      "execution_count": null,
      "metadata": {
        "id": "oJ_gep47R-7_"
      },
      "outputs": [],
      "source": [
        "# Create vector index definition specifying:\n",
        "# path: Path to the embeddings field\n",
        "# numDimensions: Number of embedding dimensions- depends on the embedding model used\n",
        "# similarity: Similarity metric. One of cosine, euclidean, dotProduct.\n",
        "model = {\n",
        "    \"name\": ATLAS_VECTOR_SEARCH_INDEX_NAME,\n",
        "    \"type\": \"vectorSearch\",\n",
        "    \"definition\": {\n",
        "        \"fields\": [\n",
        "            {\n",
        "                \"type\": \"vector\",\n",
        "                \"path\": \"embedding\",\n",
        "                \"numDimensions\": 384,\n",
        "                \"similarity\": \"cosine\",\n",
        "            }\n",
        "        ]\n",
        "    },\n",
        "}"
      ]
    },
    {
      "cell_type": "markdown",
      "metadata": {
        "id": "5hNx6P8jR-7_"
      },
      "source": [
        "📚 https://pymongo.readthedocs.io/en/stable/api/pymongo/collection.html#pymongo.collection.Collection.create_search_index"
      ]
    },
    {
      "cell_type": "code",
      "execution_count": null,
      "metadata": {
        "id": "FSWLLSRXR-7_"
      },
      "outputs": [],
      "source": [
        "# Create a vector search index with the above definition for the `collection` collection\n",
        "<CODE_BLOCK_8>"
      ]
    },
    {
      "cell_type": "markdown",
      "metadata": {
        "id": "RFYxKtTcR-7_"
      },
      "source": [
        "# Step 8: Perform semantic search on your data\n"
      ]
    },
    {
      "cell_type": "markdown",
      "metadata": {
        "id": "eIfqDkxDR-7_"
      },
      "source": [
        "### Define a vector search function\n",
        "\n",
        "📚 https://www.mongodb.com/docs/atlas/atlas-vector-search/vector-search-stage/#fields\n",
        "\n",
        "📚 https://www.mongodb.com/docs/atlas/atlas-vector-search/vector-search-stage/#ann-examples (Refer to the \"Basic Example\")\n"
      ]
    },
    {
      "cell_type": "code",
      "execution_count": null,
      "metadata": {
        "id": "l2tbPK2XR-7_"
      },
      "outputs": [],
      "source": [
        "# Define a function to retrieve relevant documents for a user query using vector search\n",
        "def vector_search(user_query: str) -> List[Dict]:\n",
        "    \"\"\"\n",
        "    Retrieve relevant documents for a user query using vector search.\n",
        "\n",
        "    Args:\n",
        "    user_query (str): The user's query string.\n",
        "\n",
        "    Returns:\n",
        "    list: A list of matching documents.\n",
        "    \"\"\"\n",
        "\n",
        "    # Generate embedding for the `user_query` using the `get_embedding` function defined in Step 5\n",
        "    query_embedding = <CODE_BLOCK_9>\n",
        "\n",
        "    # Define an aggregation pipeline consisting of a $vectorSearch stage, followed by a $project stage\n",
        "    # Set the number of candidates to 150 and only return the top 5 documents from the vector search\n",
        "    # In the $project stage, exclude the `_id` field and include only the `body` field and `vectorSearchScore`\n",
        "    # NOTE: Use variables defined previously for the `index`, `queryVector` and `path` fields in the $vectorSearch stage\n",
        "    pipeline = <CODE_BLOCK_10>\n",
        "\n",
        "    # Execute the aggregation `pipeline` and store the results in `results`\n",
        "    results = <CODE_BLOCK_11>\n",
        "    return list(results)"
      ]
    },
    {
      "cell_type": "markdown",
      "metadata": {
        "id": "Ne7RFEmOR-7_"
      },
      "source": [
        "### Run vector search queries\n"
      ]
    },
    {
      "cell_type": "code",
      "execution_count": null,
      "metadata": {
        "id": "-sFAWa76R-7_"
      },
      "outputs": [],
      "source": [
        "vector_search(\"What is MongoDB Atlas Search?\")"
      ]
    },
    {
      "cell_type": "code",
      "execution_count": null,
      "metadata": {
        "id": "glTUumquR-7_"
      },
      "outputs": [],
      "source": [
        "vector_search(\"What are triggers in MongoDB Atlas?\")"
      ]
    },
    {
      "cell_type": "markdown",
      "metadata": {
        "id": "CKbC2Q-6R-7_"
      },
      "source": [
        "# 🦹‍♀️ Combine pre-filtering with vector search"
      ]
    },
    {
      "cell_type": "markdown",
      "metadata": {
        "id": "IW1AU-cXR-7_"
      },
      "source": [
        "### Filter for documents where the content type is `Video`\n",
        "\n",
        "📚 https://www.mongodb.com/docs/atlas/atlas-vector-search/vector-search-type/#about-the-filter-type"
      ]
    },
    {
      "cell_type": "code",
      "execution_count": null,
      "metadata": {
        "id": "VhM_UQfPR-7_"
      },
      "outputs": [],
      "source": [
        "# Modify the vector search index `model` (from Step 7) to include the `metadata.contentType` field as a `filter` field\n",
        "model = <CODE_BLOCK_12>"
      ]
    },
    {
      "cell_type": "code",
      "execution_count": null,
      "metadata": {
        "id": "DWM-Db5JR-7_"
      },
      "outputs": [],
      "source": [
        "# Update vector search index\n",
        "collection.update_search_index(\n",
        "    name=ATLAS_VECTOR_SEARCH_INDEX_NAME, definition=model[\"definition\"]\n",
        ")"
      ]
    },
    {
      "cell_type": "code",
      "execution_count": null,
      "metadata": {
        "id": "uHFKGTMYR-8A"
      },
      "outputs": [],
      "source": [
        "# Embed the user query\n",
        "query_embedding = get_embedding(\"What is MongoDB Atlas Search?\")"
      ]
    },
    {
      "cell_type": "markdown",
      "metadata": {
        "id": "qBFATiqfR-8A"
      },
      "source": [
        "📚 https://www.mongodb.com/docs/atlas/atlas-vector-search/vector-search-stage/#ann-examples (Refer to the \"Filter Example\")"
      ]
    },
    {
      "cell_type": "code",
      "execution_count": null,
      "metadata": {
        "id": "mobaM50LR-8A"
      },
      "outputs": [],
      "source": [
        "# Modify the $vectorSearch stage of the aggregation pipeline defined previously to include a filter for documents where the `metadata.contentType` field has the value \"Video\"\n",
        "pipeline = <CODE_BLOCK_13>"
      ]
    },
    {
      "cell_type": "code",
      "execution_count": null,
      "metadata": {
        "id": "uvzvtfFSR-8A"
      },
      "outputs": [],
      "source": [
        "# Execute the aggregation pipeline and view the results\n",
        "results = collection.aggregate(pipeline)\n",
        "list(results)"
      ]
    },
    {
      "cell_type": "markdown",
      "metadata": {
        "id": "LUhfhxcaR-8A"
      },
      "source": [
        "### Filter on documents which have been updated on or after `2024-05-19` and where the content type is `Tutorial`"
      ]
    },
    {
      "cell_type": "code",
      "execution_count": null,
      "metadata": {
        "id": "u6coz-v_R-8A"
      },
      "outputs": [],
      "source": [
        "# Modify the vector search index `model` (from Step 7) to include the `metadata.contentType` and `updated` fields as `filter` fields\n",
        "model = <CODE_BLOCK_14>"
      ]
    },
    {
      "cell_type": "code",
      "execution_count": null,
      "metadata": {
        "id": "ZHFXMCk3R-8A"
      },
      "outputs": [],
      "source": [
        "# Update vector search index\n",
        "collection.update_search_index(\n",
        "    name=ATLAS_VECTOR_SEARCH_INDEX_NAME, definition=model[\"definition\"]\n",
        ")"
      ]
    },
    {
      "cell_type": "code",
      "execution_count": null,
      "metadata": {
        "id": "GxWy5pexR-8A"
      },
      "outputs": [],
      "source": [
        "# Embed the user query\n",
        "query_embedding = get_embedding(\"What is MongoDB Atlas Search?\")"
      ]
    },
    {
      "cell_type": "code",
      "execution_count": null,
      "metadata": {
        "id": "w_nS7E5WR-8A"
      },
      "outputs": [],
      "source": [
        "# Modify the $vectorSearch stage of the aggregation pipeline defined previously to include a filter for documents where\n",
        "# the `metadata.contentType` field has the value \"Tutorial\"\n",
        "# AND\n",
        "# the `updated` field is greater than or equal to \"2024-05-19\"\n",
        "pipeline = <CODE_BLOCK_15>"
      ]
    },
    {
      "cell_type": "code",
      "execution_count": null,
      "metadata": {
        "id": "uoyhrTSLR-8A"
      },
      "outputs": [],
      "source": [
        "# Execute the aggregation pipeline and view the results\n",
        "results = collection.aggregate(pipeline)\n",
        "list(results)"
      ]
    },
    {
      "cell_type": "markdown",
      "metadata": {
        "id": "1SFIK4e9R-8A"
      },
      "source": [
        "# Step 9: Build the RAG application\n"
      ]
    },
    {
      "cell_type": "markdown",
      "metadata": {
        "id": "ovim4HU5R-8A"
      },
      "source": [
        "### Instantiate a chat model\n"
      ]
    },
    {
      "cell_type": "code",
      "execution_count": null,
      "metadata": {
        "id": "F5_KkKrvR-8A"
      },
      "outputs": [],
      "source": [
        "from fireworks.client import Fireworks"
      ]
    },
    {
      "cell_type": "code",
      "execution_count": null,
      "metadata": {
        "id": "Ci6yx-eZR-8A"
      },
      "outputs": [],
      "source": [
        "# Initializing the Fireworks AI client and the model string\n",
        "fw_client = Fireworks()\n",
        "model = \"accounts/fireworks/models/llama-v3-8b-instruct\""
      ]
    },
    {
      "cell_type": "markdown",
      "metadata": {
        "id": "FNTab_BjR-8A"
      },
      "source": [
        "### Define a function to create the chat prompt"
      ]
    },
    {
      "cell_type": "code",
      "execution_count": null,
      "metadata": {
        "id": "ku-vUUb3R-8A"
      },
      "outputs": [],
      "source": [
        "# Define a function to create the user prompt for our RAG application\n",
        "def create_prompt(user_query: str) -> str:\n",
        "    \"\"\"\n",
        "    Create a chat prompt that includes the user query and retrieved context.\n",
        "\n",
        "    Args:\n",
        "        user_query (str): The user's query string.\n",
        "\n",
        "    Returns:\n",
        "        str: The chat prompt string.\n",
        "    \"\"\"\n",
        "    # Retrieve the most relevant documents for the `user_query` using the `vector_search` function defined in Step 8\n",
        "    context = <CODE_BLOCK_16>\n",
        "    # Join the retrieved documents into a single string, where each document is separated by two new lines (\"\\n\\n\")\n",
        "    context = \"\\n\\n\".join([doc.get('body') for doc in context])\n",
        "    # Prompt consisting of the question and relevant context to answer it\n",
        "    prompt = f\"Answer the question based only on the following context. If the context is empty, say I DON'T KNOW\\n\\nContext:\\n{context}\\n\\nQuestion:{user_query}\"\n",
        "    return prompt"
      ]
    },
    {
      "cell_type": "markdown",
      "metadata": {
        "id": "xi5uSJqnR-8A"
      },
      "source": [
        "### Define a function to answer user queries\n",
        "\n",
        "📚 https://docs.fireworks.ai/guides/querying-text-models#chat-completions-api"
      ]
    },
    {
      "cell_type": "code",
      "execution_count": null,
      "metadata": {
        "id": "eY55yrWsR-8A"
      },
      "outputs": [],
      "source": [
        "# Define a function to answer user queries using Fireworks' Chat Completion API\n",
        "def generate_answer(user_query: str) -> None:\n",
        "    \"\"\"\n",
        "    Generate an answer to the user query.\n",
        "\n",
        "    Args:\n",
        "        user_query (str): The user's query string.\n",
        "    \"\"\"\n",
        "    # Use the `create_prompt` function above to create a chat prompt\n",
        "    prompt = <CODE_BLOCK_17>\n",
        "    # Use the `prompt` created above to populate the `content` field in the chat message\n",
        "    response = <CODE_BLOCK_18>\n",
        "    # Print the final answer\n",
        "    print(response.choices[0].message.content)"
      ]
    },
    {
      "cell_type": "markdown",
      "metadata": {
        "id": "dZPAuFVMR-8A"
      },
      "source": [
        "### Query the RAG application\n"
      ]
    },
    {
      "cell_type": "code",
      "execution_count": null,
      "metadata": {
        "id": "bXeeAzpyR-8A"
      },
      "outputs": [],
      "source": [
        "generate_answer(\"What is MongoDB Atlas Search?\")"
      ]
    },
    {
      "cell_type": "code",
      "execution_count": null,
      "metadata": {
        "id": "_ifB0gptR-8A"
      },
      "outputs": [],
      "source": [
        "generate_answer(\"What did I just ask you?\")"
      ]
    },
    {
      "cell_type": "markdown",
      "metadata": {
        "id": "75G9jVKuR-8A"
      },
      "source": [
        "# 🦹‍♀️ Re-rank retrieved results\n"
      ]
    },
    {
      "cell_type": "code",
      "execution_count": null,
      "metadata": {
        "id": "oZKg6VlNR-8B"
      },
      "outputs": [],
      "source": [
        "from sentence_transformers import CrossEncoder"
      ]
    },
    {
      "cell_type": "code",
      "execution_count": null,
      "metadata": {
        "id": "Xv7LqArAR-8B"
      },
      "outputs": [],
      "source": [
        "rerank_model = CrossEncoder(\"mixedbread-ai/mxbai-rerank-xsmall-v1\")"
      ]
    },
    {
      "cell_type": "markdown",
      "metadata": {
        "id": "wEyrbHB3R-8B"
      },
      "source": [
        "📚 https://huggingface.co/mixedbread-ai/mxbai-rerank-xsmall-v1"
      ]
    },
    {
      "cell_type": "code",
      "execution_count": null,
      "metadata": {
        "id": "Qt-FEDn4R-8B"
      },
      "outputs": [],
      "source": [
        "# Add a re-ranking step to the following function\n",
        "def create_prompt(user_query: str) -> str:\n",
        "    \"\"\"\n",
        "    Create a chat prompt that includes the user query and retrieved context.\n",
        "\n",
        "    Args:\n",
        "        user_query (str): The user's query string.\n",
        "\n",
        "    Returns:\n",
        "        str: The chat prompt string.\n",
        "    \"\"\"\n",
        "    # Retrieve the most relevant documents for the `user_query` using the `vector_search` function defined in Step 8\n",
        "    context = vector_search(user_query)\n",
        "    # Extract the \"body\" field from each document in `context`\n",
        "    documents = [d.get(\"body\") for d in context]\n",
        "    # Use the `rerank_model` instantiated above to re-rank `documents`\n",
        "    # Set the `top_k` argument to 5\n",
        "    reranked_documents = <CODE_BLOCK_19>\n",
        "    # Join the re-ranked documents into a single string, where each document is separated by two new lines (\"\\n\\n\")\n",
        "    context = \"\\n\\n\".join([d.get(\"text\", \"\") for d in reranked_documents])\n",
        "    # Prompt consisting of the question and relevant context to answer it\n",
        "    prompt = f\"Answer the question based only on the following context. If the context is empty, say I DON'T KNOW\\n\\nContext:\\n{context}\\n\\nQuestion:{user_query}\"\n",
        "    return prompt"
      ]
    },
    {
      "cell_type": "code",
      "execution_count": null,
      "metadata": {
        "id": "it9Bdgg3R-8B"
      },
      "outputs": [],
      "source": [
        "# Note the impact of re-ranking on the generated answer\n",
        "generate_answer(\"What are triggers in MongoDB Atlas?\")"
      ]
    },
    {
      "cell_type": "markdown",
      "metadata": {
        "id": "piM3GsVdR-8B"
      },
      "source": [
        "# 🦹‍♀️ Return streaming responses\n",
        "\n",
        "📚 https://docs.fireworks.ai/guides/querying-text-models#streaming\n"
      ]
    },
    {
      "cell_type": "code",
      "execution_count": null,
      "metadata": {
        "id": "pMIamU6QR-8B"
      },
      "outputs": [],
      "source": [
        "# Define a function to answer user queries in streaming mode using Fireworks' Chat Completion API\n",
        "def generate_answer(user_query: str) -> None:\n",
        "    \"\"\"\n",
        "    Generate an answer to the user query.\n",
        "\n",
        "    Args:\n",
        "        user_query (str): The user's query string.\n",
        "    \"\"\"\n",
        "    # Use the `create_prompt` function defined in Step 9 to create a chat prompt\n",
        "    prompt = <CODE_BLOCK_20>\n",
        "    # Use the `prompt` created above to populate the `content` field in the chat message\n",
        "    # Set the `stream` parameter to True\n",
        "    response = <CODE_BLOCK_21>\n",
        "\n",
        "    # Iterate through the `response` generator and print the results as they are generated\n",
        "    <CODE_BLOCK_22>"
      ]
    },
    {
      "cell_type": "code",
      "execution_count": null,
      "metadata": {
        "id": "7387tJFZR-8B"
      },
      "outputs": [],
      "source": [
        "generate_answer(\"What is MongoDB Atlas Search?\")"
      ]
    },
    {
      "cell_type": "markdown",
      "metadata": {
        "id": "oVVNCrDRR-8B"
      },
      "source": [
        "# Step 10: Add memory to the RAG application\n"
      ]
    },
    {
      "cell_type": "code",
      "execution_count": null,
      "metadata": {
        "id": "gXzZ3DXMR-8B"
      },
      "outputs": [],
      "source": [
        "from datetime import datetime"
      ]
    },
    {
      "cell_type": "code",
      "execution_count": null,
      "metadata": {
        "id": "2Lh675tJR-8B"
      },
      "outputs": [],
      "source": [
        "history_collection = mongodb_client[DB_NAME][\"chat_history\"]"
      ]
    },
    {
      "cell_type": "markdown",
      "metadata": {
        "id": "J1BfM-CMR-8B"
      },
      "source": [
        "📚 https://pymongo.readthedocs.io/en/stable/api/pymongo/collection.html#pymongo.collection.Collection.create_index\n"
      ]
    },
    {
      "cell_type": "code",
      "execution_count": null,
      "metadata": {
        "id": "aL-r8MwdR-8B"
      },
      "outputs": [],
      "source": [
        "# Create an index on the key `session_id` for the `history_collection` collection\n",
        "<CODE_BLOCK_23>"
      ]
    },
    {
      "cell_type": "markdown",
      "metadata": {
        "id": "s0qI06VwR-8B"
      },
      "source": [
        "### Define a function to store chat messages in MongoDB\n",
        "\n",
        "📚 https://pymongo.readthedocs.io/en/stable/api/pymongo/collection.html#pymongo.collection.Collection.insert_one"
      ]
    },
    {
      "cell_type": "code",
      "execution_count": null,
      "metadata": {
        "id": "zKEnEJJAR-8B"
      },
      "outputs": [],
      "source": [
        "def store_chat_message(session_id: str, role: str, content: str) -> None:\n",
        "    \"\"\"\n",
        "    Store a chat message in a MongoDB collection.\n",
        "\n",
        "    Args:\n",
        "        session_id (str): Session ID of the message.\n",
        "        role (str): Role for the message. One of `system`, `user` or `assistant`.\n",
        "        content (str): Content of the message.\n",
        "    \"\"\"\n",
        "    # Create a message object with `session_id`, `role`, `content` and `timestamp` fields\n",
        "    # `timestamp` should be set the current timestamp\n",
        "    message = {\n",
        "        \"session_id\": session_id,\n",
        "        \"role\": role,\n",
        "        \"content\": content,\n",
        "        \"timestamp\": datetime.now(),\n",
        "    }\n",
        "    # Insert the `message` into the `history_collection` collection\n",
        "    <CODE_BLOCK_24>"
      ]
    },
    {
      "cell_type": "markdown",
      "metadata": {
        "id": "rYYDmttDR-8B"
      },
      "source": [
        "### Define a function to retrieve chat history from MongoDB\n",
        "\n",
        "📚 https://pymongo.readthedocs.io/en/stable/api/pymongo/collection.html#pymongo.collection.Collection.find\n",
        "\n",
        "📚 https://pymongo.readthedocs.io/en/stable/api/pymongo/cursor.html#pymongo.cursor.Cursor.sort"
      ]
    },
    {
      "cell_type": "code",
      "execution_count": null,
      "metadata": {
        "id": "79vthABMR-8B"
      },
      "outputs": [],
      "source": [
        "def retrieve_session_history(session_id: str) -> List:\n",
        "    \"\"\"\n",
        "    Retrieve chat message history for a particular session.\n",
        "\n",
        "    Args:\n",
        "        session_id (str): Session ID to retrieve chat message history for.\n",
        "\n",
        "    Returns:\n",
        "        List: List of chat messages.\n",
        "    \"\"\"\n",
        "    # Query the `history_collection` collection for documents where the \"session_id\" field has the value of the input `session_id`\n",
        "    # Sort the results in increasing order of the values in `timestamp` field\n",
        "    cursor =  <CODE_BLOCK_25>\n",
        "\n",
        "    if cursor:\n",
        "        # Iterate through the cursor and extract the `role` and `content` field from each entry\n",
        "        # Then format each entry as: {\"role\": <role_value>, \"content\": <content_value>}\n",
        "        messages = [{\"role\": msg[\"role\"], \"content\": msg[\"content\"]} for msg in cursor]\n",
        "    else:\n",
        "        # If cursor is empty, return an empty list\n",
        "        messages = []\n",
        "\n",
        "    return messages"
      ]
    },
    {
      "cell_type": "markdown",
      "metadata": {
        "id": "5kofIW6VR-8B"
      },
      "source": [
        "### Handle chat history in the `generate_answer` function\n",
        "\n",
        "📚 https://docs.fireworks.ai/guides/querying-text-models#chat-completions-api\n"
      ]
    },
    {
      "cell_type": "code",
      "execution_count": null,
      "metadata": {
        "id": "_po1imxHR-8B"
      },
      "outputs": [],
      "source": [
        "def generate_answer(session_id: str, user_query: str) -> None:\n",
        "    \"\"\"\n",
        "    Generate an answer to the user's query taking chat history into account.\n",
        "\n",
        "    Args:\n",
        "        session_id (str): Session ID to retrieve chat history for.\n",
        "        user_query (str): The user's query string.\n",
        "    \"\"\"\n",
        "    # Initialize list of messages to pass to the chat completion model\n",
        "    messages = []\n",
        "\n",
        "    # Retrieve documents relevant to the user query and convert them to a single string\n",
        "    context = vector_search(user_query)\n",
        "    context = \"\\n\\n\".join([d.get(\"body\", \"\") for d in context])\n",
        "    # Create a system prompt containing the retrieved context\n",
        "    system_message = {\n",
        "        \"role\": \"system\",\n",
        "        \"content\": f\"Answer the question based only on the following context. If the context is empty, say I DON'T KNOW\\n\\nContext:\\n{context}\",\n",
        "    }\n",
        "    # Append the system prompt to the `messages` list\n",
        "    messages.append(system_message)\n",
        "\n",
        "    # Use the `retrieve_session_history` function to retrieve message history from MongoDB for the session ID `session_id`\n",
        "    # And add all messages in the message history to the `messages` list\n",
        "    message_history = <CODE_BLOCK_26>\n",
        "    messages.extend(message_history)\n",
        "\n",
        "    # Format the user message in the format {\"role\": <role_value>, \"content\": <content_value>}\n",
        "    # The role value for user messages must be \"user\"\n",
        "    # And append the user message to the `messages` list\n",
        "    user_message = <CODE_BLOCK_27>\n",
        "    messages.append(user_message)\n",
        "\n",
        "    # Call the chat completions API\n",
        "    response = fw_client.chat.completions.create(model=model, messages=messages)\n",
        "\n",
        "    # Extract the answer from the API response\n",
        "    answer = response.choices[0].message.content\n",
        "\n",
        "    # Use the `store_chat_message` function to store the user message and also the generated answer in the message history collection\n",
        "    # The role value for user messages is \"user\", and \"assistant\" for the generated answer\n",
        "    <CODE_BLOCK_28>\n",
        "\n",
        "    print(answer)"
      ]
    },
    {
      "cell_type": "code",
      "execution_count": null,
      "metadata": {
        "id": "XR_BXsxRR-8B"
      },
      "outputs": [],
      "source": [
        "generate_answer(\n",
        "    session_id=\"1\",\n",
        "    user_query=\"What are triggers in MongoDB Atlas?\",\n",
        ")"
      ]
    },
    {
      "cell_type": "code",
      "execution_count": null,
      "metadata": {
        "id": "QcuQ3-MER-8C"
      },
      "outputs": [],
      "source": [
        "generate_answer(\n",
        "    session_id=\"1\",\n",
        "    user_query=\"What did I just ask you?\",\n",
        ")"
      ]
    }
  ],
  "metadata": {
    "kernelspec": {
      "display_name": ".venv",
      "language": "python",
      "name": "python3"
    },
    "language_info": {
      "codemirror_mode": {
        "name": "ipython",
        "version": 3
      },
      "file_extension": ".py",
      "mimetype": "text/x-python",
      "name": "python",
      "nbconvert_exporter": "python",
      "pygments_lexer": "ipython3",
      "version": "3.12.1"
    },
    "colab": {
      "provenance": []
    }
  },
  "nbformat": 4,
  "nbformat_minor": 0
}